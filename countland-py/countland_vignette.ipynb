{
 "cells": [
  {
   "cell_type": "markdown",
   "id": "86e28e37",
   "metadata": {},
   "source": [
    "# COUNTLAND: python tutorial\n",
    "### Samuel H. Church"
   ]
  },
  {
   "cell_type": "markdown",
   "id": "659dc129",
   "metadata": {},
   "source": [
    "The following packages are required to complete the tutorial"
   ]
  },
  {
   "cell_type": "code",
   "execution_count": 1,
   "id": "752adb77",
   "metadata": {},
   "outputs": [
    {
     "name": "stdout",
     "output_type": "stream",
     "text": [
      "scanpy==1.8.2 anndata==0.7.8 umap==0.5.2 numpy==1.21.5 scipy==1.8.0 pandas==1.4.1 scikit-learn==1.0.2 statsmodels==0.13.2 pynndescent==0.5.6\n"
     ]
    }
   ],
   "source": [
    "import sys\n",
    "import logging\n",
    "\n",
    "import numpy as np\n",
    "import pandas as pd\n",
    "\n",
    "import matplotlib\n",
    "import matplotlib.pylab as plt\n",
    "import matplotlib.cm as cm\n",
    "plt.style.use('classic')\n",
    "%config InlineBackend.figure_formats = ['svg']\n",
    "%matplotlib inline\n",
    "\n",
    "import seaborn as sns\n",
    "\n",
    "import scanpy as sc\n",
    "\n",
    "sc.settings.verbosity = 3             # verbosity: errors (0), warnings (1), info (2), hints (3)\n",
    "sc.logging.print_header()\n",
    "sc.settings.set_figure_params(dpi=80, facecolor='white', color_map=\"viridis\")"
   ]
  },
  {
   "cell_type": "markdown",
   "id": "50438e0b",
   "metadata": {},
   "source": [
    "## GET THE DATA"
   ]
  },
  {
   "cell_type": "markdown",
   "id": "e219f441",
   "metadata": {},
   "source": [
    "We have used the PBMC3k benchmark dataset.  \n",
    "`countland` accepts an AnnData object, same as `scanpy` "
   ]
  },
  {
   "cell_type": "code",
   "execution_count": 2,
   "id": "82664e55",
   "metadata": {},
   "outputs": [
    {
     "name": "stdout",
     "output_type": "stream",
     "text": [
      "... reading from cache file cache/..-data-hg19-matrix.h5ad\n"
     ]
    }
   ],
   "source": [
    "#!mkdir data\n",
    "#!wget http://cf.10xgenomics.com/samples/cell-exp/1.1.0/pbmc3k/pbmc3k_filtered_gene_bc_matrices.tar.gz -O data/pbmc3k_filtered_gene_bc_matrices.tar.gz\n",
    "#!cd data; tar -xzf pbmc3k_filtered_gene_bc_matrices.tar.gz\n",
    "#!mkdir write\n",
    "\n",
    "adata = sc.read_10x_mtx(\n",
    "    '../data/hg19/',  # the directory with the `.mtx` file\n",
    "    var_names='gene_symbols',                # use gene symbols for the variable names (variables-axis index)\n",
    "    cache=True)                             # write a cache file for faster subsequent reading\n",
    "\n",
    "adata.var_names_make_unique()  # this is unnecessary if using `var_names='gene_ids'` in `sc.read_10x_mtx`\n"
   ]
  },
  {
   "cell_type": "markdown",
   "id": "f5123812",
   "metadata": {},
   "source": [
    "## IMPORT COUNTLAND\n",
    "The code is located in `countland.py`"
   ]
  },
  {
   "cell_type": "code",
   "execution_count": 3,
   "id": "173e546c",
   "metadata": {},
   "outputs": [],
   "source": [
    "import countland as clnd"
   ]
  },
  {
   "cell_type": "code",
   "execution_count": 12,
   "id": "d2e784a6",
   "metadata": {},
   "outputs": [
    {
     "data": {
      "text/plain": [
       "<module 'countland' from '/Users/samuelchurch/Downloads/countland/countland-py/countland.py'>"
      ]
     },
     "execution_count": 12,
     "metadata": {},
     "output_type": "execute_result"
    }
   ],
   "source": [
    "import importlib\n",
    "importlib.reload(clnd)"
   ]
  },
  {
   "cell_type": "markdown",
   "id": "fbef1150",
   "metadata": {},
   "source": [
    "## INITIALIZE COUNTLAND OBJECT"
   ]
  },
  {
   "cell_type": "code",
   "execution_count": 13,
   "id": "003379d4",
   "metadata": {},
   "outputs": [
    {
     "name": "stdout",
     "output_type": "stream",
     "text": [
      "Initializing countland object\n",
      "\n",
      "        countland object\n",
      "        Count matrix has 2700 cells (rows) \n",
      "         and 32738 genes (columns)\n",
      "        The fraction of entries that are nonzero is 0.0259\n",
      "        \n"
     ]
    }
   ],
   "source": [
    "C = clnd.countland(adata)\n",
    "print(C)"
   ]
  },
  {
   "cell_type": "markdown",
   "id": "f465285f",
   "metadata": {},
   "source": [
    "The count matrix is stored in `C.counts`"
   ]
  },
  {
   "cell_type": "code",
   "execution_count": 14,
   "id": "36a3831e",
   "metadata": {},
   "outputs": [
    {
     "data": {
      "text/plain": [
       "array([[0, 0, 0, ..., 0, 0, 0],\n",
       "       [0, 0, 0, ..., 0, 0, 0],\n",
       "       [0, 0, 0, ..., 0, 0, 0],\n",
       "       ...,\n",
       "       [0, 0, 0, ..., 0, 0, 0],\n",
       "       [0, 0, 0, ..., 0, 0, 0],\n",
       "       [0, 0, 0, ..., 0, 0, 0]])"
      ]
     },
     "execution_count": 14,
     "metadata": {},
     "output_type": "execute_result"
    }
   ],
   "source": [
    "C.counts"
   ]
  },
  {
   "cell_type": "markdown",
   "id": "3f1db390",
   "metadata": {},
   "source": [
    "Note that most counts are zero for scRNA-seq data."
   ]
  },
  {
   "cell_type": "markdown",
   "id": "78e07588",
   "metadata": {},
   "source": [
    "## EVALUATE CELL QUALITY\n",
    "\n",
    "Checking the total number of counts and other measures per cell provides a measure of data quality. \n",
    "\n",
    "In addition, it can be helpful to see how many counts are derived from certain genes, such as mitochondrial genes (here those gene names start with \"MT-\")."
   ]
  },
  {
   "cell_type": "code",
   "execution_count": 15,
   "id": "4e672902",
   "metadata": {},
   "outputs": [],
   "source": [
    "C.ScoreCells(gene_string=\"^MT-\")"
   ]
  },
  {
   "cell_type": "code",
   "execution_count": 16,
   "id": "eb8f2c33",
   "metadata": {},
   "outputs": [
    {
     "data": {
      "text/html": [
       "<div>\n",
       "<style scoped>\n",
       "    .dataframe tbody tr th:only-of-type {\n",
       "        vertical-align: middle;\n",
       "    }\n",
       "\n",
       "    .dataframe tbody tr th {\n",
       "        vertical-align: top;\n",
       "    }\n",
       "\n",
       "    .dataframe thead th {\n",
       "        text-align: right;\n",
       "    }\n",
       "</style>\n",
       "<table border=\"1\" class=\"dataframe\">\n",
       "  <thead>\n",
       "    <tr style=\"text-align: right;\">\n",
       "      <th></th>\n",
       "      <th>names</th>\n",
       "      <th>max_count_value</th>\n",
       "      <th>total_counts</th>\n",
       "      <th>counts_above0</th>\n",
       "      <th>counts_above1</th>\n",
       "      <th>counts_above10</th>\n",
       "      <th>unique_count_values</th>\n",
       "      <th>count_index</th>\n",
       "      <th>feature_counts</th>\n",
       "    </tr>\n",
       "  </thead>\n",
       "  <tbody>\n",
       "    <tr>\n",
       "      <th>0</th>\n",
       "      <td>AAACATACAACCAC-1</td>\n",
       "      <td>76</td>\n",
       "      <td>2421</td>\n",
       "      <td>781</td>\n",
       "      <td>225</td>\n",
       "      <td>56</td>\n",
       "      <td>34</td>\n",
       "      <td>10</td>\n",
       "      <td>73</td>\n",
       "    </tr>\n",
       "    <tr>\n",
       "      <th>1</th>\n",
       "      <td>AAACATTGAGCTAC-1</td>\n",
       "      <td>142</td>\n",
       "      <td>4903</td>\n",
       "      <td>1352</td>\n",
       "      <td>399</td>\n",
       "      <td>92</td>\n",
       "      <td>52</td>\n",
       "      <td>10</td>\n",
       "      <td>186</td>\n",
       "    </tr>\n",
       "    <tr>\n",
       "      <th>2</th>\n",
       "      <td>AAACATTGATCAGC-1</td>\n",
       "      <td>171</td>\n",
       "      <td>3149</td>\n",
       "      <td>1131</td>\n",
       "      <td>355</td>\n",
       "      <td>50</td>\n",
       "      <td>34</td>\n",
       "      <td>9</td>\n",
       "      <td>28</td>\n",
       "    </tr>\n",
       "    <tr>\n",
       "      <th>3</th>\n",
       "      <td>AAACCGTGCTTCCG-1</td>\n",
       "      <td>114</td>\n",
       "      <td>2639</td>\n",
       "      <td>960</td>\n",
       "      <td>319</td>\n",
       "      <td>48</td>\n",
       "      <td>28</td>\n",
       "      <td>9</td>\n",
       "      <td>46</td>\n",
       "    </tr>\n",
       "    <tr>\n",
       "      <th>4</th>\n",
       "      <td>AAACCGTGTATGCG-1</td>\n",
       "      <td>40</td>\n",
       "      <td>981</td>\n",
       "      <td>522</td>\n",
       "      <td>113</td>\n",
       "      <td>13</td>\n",
       "      <td>18</td>\n",
       "      <td>4</td>\n",
       "      <td>12</td>\n",
       "    </tr>\n",
       "    <tr>\n",
       "      <th>...</th>\n",
       "      <td>...</td>\n",
       "      <td>...</td>\n",
       "      <td>...</td>\n",
       "      <td>...</td>\n",
       "      <td>...</td>\n",
       "      <td>...</td>\n",
       "      <td>...</td>\n",
       "      <td>...</td>\n",
       "      <td>...</td>\n",
       "    </tr>\n",
       "    <tr>\n",
       "      <th>2695</th>\n",
       "      <td>TTTCGAACTCTCAT-1</td>\n",
       "      <td>96</td>\n",
       "      <td>3461</td>\n",
       "      <td>1155</td>\n",
       "      <td>392</td>\n",
       "      <td>60</td>\n",
       "      <td>36</td>\n",
       "      <td>9</td>\n",
       "      <td>73</td>\n",
       "    </tr>\n",
       "    <tr>\n",
       "      <th>2696</th>\n",
       "      <td>TTTCTACTGAGGCA-1</td>\n",
       "      <td>77</td>\n",
       "      <td>3447</td>\n",
       "      <td>1227</td>\n",
       "      <td>397</td>\n",
       "      <td>70</td>\n",
       "      <td>35</td>\n",
       "      <td>9</td>\n",
       "      <td>32</td>\n",
       "    </tr>\n",
       "    <tr>\n",
       "      <th>2697</th>\n",
       "      <td>TTTCTACTTCCTCG-1</td>\n",
       "      <td>59</td>\n",
       "      <td>1684</td>\n",
       "      <td>622</td>\n",
       "      <td>194</td>\n",
       "      <td>30</td>\n",
       "      <td>26</td>\n",
       "      <td>10</td>\n",
       "      <td>37</td>\n",
       "    </tr>\n",
       "    <tr>\n",
       "      <th>2698</th>\n",
       "      <td>TTTGCATGAGAGGC-1</td>\n",
       "      <td>109</td>\n",
       "      <td>1024</td>\n",
       "      <td>454</td>\n",
       "      <td>131</td>\n",
       "      <td>9</td>\n",
       "      <td>18</td>\n",
       "      <td>5</td>\n",
       "      <td>21</td>\n",
       "    </tr>\n",
       "    <tr>\n",
       "      <th>2699</th>\n",
       "      <td>TTTGCATGCCTCAC-1</td>\n",
       "      <td>63</td>\n",
       "      <td>1985</td>\n",
       "      <td>724</td>\n",
       "      <td>200</td>\n",
       "      <td>47</td>\n",
       "      <td>30</td>\n",
       "      <td>7</td>\n",
       "      <td>16</td>\n",
       "    </tr>\n",
       "  </tbody>\n",
       "</table>\n",
       "<p>2700 rows × 9 columns</p>\n",
       "</div>"
      ],
      "text/plain": [
       "                 names  max_count_value  total_counts  counts_above0  \\\n",
       "0     AAACATACAACCAC-1               76          2421            781   \n",
       "1     AAACATTGAGCTAC-1              142          4903           1352   \n",
       "2     AAACATTGATCAGC-1              171          3149           1131   \n",
       "3     AAACCGTGCTTCCG-1              114          2639            960   \n",
       "4     AAACCGTGTATGCG-1               40           981            522   \n",
       "...                ...              ...           ...            ...   \n",
       "2695  TTTCGAACTCTCAT-1               96          3461           1155   \n",
       "2696  TTTCTACTGAGGCA-1               77          3447           1227   \n",
       "2697  TTTCTACTTCCTCG-1               59          1684            622   \n",
       "2698  TTTGCATGAGAGGC-1              109          1024            454   \n",
       "2699  TTTGCATGCCTCAC-1               63          1985            724   \n",
       "\n",
       "      counts_above1  counts_above10  unique_count_values  count_index  \\\n",
       "0               225              56                   34           10   \n",
       "1               399              92                   52           10   \n",
       "2               355              50                   34            9   \n",
       "3               319              48                   28            9   \n",
       "4               113              13                   18            4   \n",
       "...             ...             ...                  ...          ...   \n",
       "2695            392              60                   36            9   \n",
       "2696            397              70                   35            9   \n",
       "2697            194              30                   26           10   \n",
       "2698            131               9                   18            5   \n",
       "2699            200              47                   30            7   \n",
       "\n",
       "      feature_counts  \n",
       "0                 73  \n",
       "1                186  \n",
       "2                 28  \n",
       "3                 46  \n",
       "4                 12  \n",
       "...              ...  \n",
       "2695              73  \n",
       "2696              32  \n",
       "2697              37  \n",
       "2698              21  \n",
       "2699              16  \n",
       "\n",
       "[2700 rows x 9 columns]"
      ]
     },
     "execution_count": 16,
     "metadata": {},
     "output_type": "execute_result"
    }
   ],
   "source": [
    "C.cell_scores"
   ]
  },
  {
   "cell_type": "markdown",
   "id": "b0315197",
   "metadata": {},
   "source": [
    "## FILTER GENES AND CELLS"
   ]
  },
  {
   "cell_type": "code",
   "execution_count": null,
   "id": "da0283a1",
   "metadata": {},
   "outputs": [],
   "source": [
    "C.SubsetGenes(np.sum(C.counts,axis=0) > 0) # only genes with counts detected\n"
   ]
  },
  {
   "cell_type": "code",
   "execution_count": null,
   "id": "887f607b",
   "metadata": {},
   "outputs": [],
   "source": [
    "C.SubsetCells(np.sum(C.counts,axis=1) > 0) # only cells with counts detected\n"
   ]
  },
  {
   "cell_type": "markdown",
   "id": "b6e47055",
   "metadata": {},
   "source": [
    "You can return to the original count matrix at any time using\n",
    "`C.RestoreCounts()`"
   ]
  },
  {
   "cell_type": "markdown",
   "id": "49aa273a",
   "metadata": {},
   "source": [
    "## SUBSAMPLE GENES"
   ]
  },
  {
   "cell_type": "markdown",
   "id": "de32eeee",
   "metadata": {},
   "source": [
    "Cells are not sequenced to standard sequencing depth. This is sometimes a problem for downstream comparisons.  \n",
    "\n",
    "You can subsample all cells to a standard number of counts using `C.Subsample()`. The number of counts must not be larger than the minimum number per cell."
   ]
  },
  {
   "cell_type": "code",
   "execution_count": null,
   "id": "ec118c54",
   "metadata": {},
   "outputs": [],
   "source": [
    "np.random.seed(84095) # choose a random seed for reproducibility\n",
    "C.Subsample(n_counts = 500)"
   ]
  },
  {
   "cell_type": "markdown",
   "id": "f2147167",
   "metadata": {},
   "source": [
    "## COMPARE GENES BY COUNTS"
   ]
  },
  {
   "cell_type": "markdown",
   "id": "1585b2f3",
   "metadata": {},
   "source": [
    "Using the subsampled count matrix, we can compare expression using several count-based assessments. These include:\n",
    "\n",
    "- maximum number of counts observed across cells\n",
    "- total counts per gene\n",
    "- number of cells with counts above 0, 1, or 10\n",
    "- number of unique count values\n",
    "- count index = number of _n_ cells with _n_ counts"
   ]
  },
  {
   "cell_type": "code",
   "execution_count": null,
   "id": "b77e830f",
   "metadata": {
    "scrolled": true
   },
   "outputs": [],
   "source": [
    "C.ScoreGenes()\n",
    "C.gene_scores.sort_values(by=\"unique_count_values\",ascending=False)"
   ]
  },
  {
   "cell_type": "code",
   "execution_count": null,
   "id": "f3220215",
   "metadata": {},
   "outputs": [],
   "source": [
    "####  NEED TO UPDATE THE PLOT HERE \n",
    "\n",
    "unique_names = C.gene_scores.sort_values(by=\"total_counts\",ascending=False).names.unique()\n",
    "colors_dict = dict(zip(unique_names,np.append(sns.color_palette(\"tab10\",10).as_hex(),np.repeat(\"black\",len(C.gene_scores.names)-10)))) # colors to markers\n"
   ]
  },
  {
   "cell_type": "markdown",
   "id": "9739cead",
   "metadata": {},
   "source": [
    "## SELECT CERTAIN GENES (AKA PROJECTING ONTO SUBSPACE)"
   ]
  },
  {
   "cell_type": "markdown",
   "id": "4ed1e222",
   "metadata": {},
   "source": [
    "A common practice in single-cell analysis is to only use certain features (genes) for clustering. These can be selected by estimated parameter values, such as high variance. \n",
    "\n",
    "Using count-based methods, there may not be a need to filter genes. However, for speed of analysis here, we have focused on the top 500 genes ranked by the number of unique count values per gene."
   ]
  },
  {
   "cell_type": "code",
   "execution_count": null,
   "id": "641bf8e9",
   "metadata": {},
   "outputs": [],
   "source": [
    "gene_names = C.gene_scores.sort_values(by=\"unique_count_values\",ascending=False).head(500)['names']\n",
    "gene_indices = np.where(np.isin(C.names_genes,gene_names))[0]\n",
    "C.SubsetGenes(gene_indices)\n",
    "C.SubsetCells(np.where(np.max(C.counts,axis=1)>0)[0]) # only cells with at least one count"
   ]
  },
  {
   "cell_type": "markdown",
   "id": "1bf93019",
   "metadata": {},
   "source": [
    "## CLUSTER BY DOT PRODUCTS\n",
    "\n",
    "The dot (or inner) product is a measure of alignment between vectors. In this case, it tells us how similar two cells are based on the proportions of counts, and scaled by the total counts per cell. A dot product of 0 indicates orthogonal cell vectors (no shared counts), larger values indicate aligned cell vectors."
   ]
  },
  {
   "cell_type": "code",
   "execution_count": null,
   "id": "a0375fac",
   "metadata": {},
   "outputs": [],
   "source": [
    "C.Dot()"
   ]
  },
  {
   "cell_type": "markdown",
   "id": "e887fe9b",
   "metadata": {},
   "source": [
    "Cell populations can be distinguished by clustering the matrix of pairwise dot products (contained in `C.dots`). This matrix is an unbounded affinity matrix. It is symmetric, and contains only integer values above 0. Spectral clustering is appropriate for this type of matrix.\n",
    "\n",
    "The number of clusters depends on the system in question..."
   ]
  },
  {
   "cell_type": "code",
   "execution_count": null,
   "id": "7065cb3b",
   "metadata": {},
   "outputs": [],
   "source": [
    "## NEED A BETTER SYSTEM FOR DECIDING N CLUSTERS\n",
    "\n",
    "C.Cluster(n_clusters=7)"
   ]
  },
  {
   "cell_type": "markdown",
   "id": "7d282ca2",
   "metadata": {},
   "source": [
    "## VISUALIZING WITH SPECTRAL EMBEDDING OF DOT PRODUCTS"
   ]
  },
  {
   "cell_type": "markdown",
   "id": "bebd3d04",
   "metadata": {},
   "source": [
    "We can use the dot product matrix to visualize cell similarity. This takes advantage of spectral embedding to plot cells in a space with reduced dimensionality."
   ]
  },
  {
   "cell_type": "code",
   "execution_count": null,
   "id": "33c2776a",
   "metadata": {},
   "outputs": [],
   "source": [
    "C.PlotEmbedding()"
   ]
  },
  {
   "cell_type": "markdown",
   "id": "b35c1dc4",
   "metadata": {},
   "source": [
    "## IDENTIFY MARKER GENES\n",
    "\n",
    "What makes a gene an ideal marker for a cluster may depend on downstream applications. For example, the ideal marker gene might be defined as the gene detected in all of the cells in a given cluster and none of the rest.\n",
    "\n",
    "Under this definition, the top marker gene for each cluster can be identified by counting and comparing the number of non-zero cells."
   ]
  },
  {
   "cell_type": "code",
   "execution_count": null,
   "id": "df2f1c2e",
   "metadata": {},
   "outputs": [],
   "source": [
    "C.RankMarkerGenes(method='prop-zero')\n",
    "gdf = C.marker_genes.loc[(C.marker_genes['cluster_label'] == 5)]\n",
    "gdf"
   ]
  },
  {
   "cell_type": "code",
   "execution_count": null,
   "id": "9aa5e8e1",
   "metadata": {},
   "outputs": [],
   "source": [
    "gene_index = gdf.loc[(gdf['cluster_label'] == 5) & (gdf['rank'] == 1)]['gene index'].values\n",
    "C.PlotMarker(gene_index)"
   ]
  },
  {
   "cell_type": "markdown",
   "id": "d09136ad",
   "metadata": {},
   "source": [
    "Alternatively, the top marker genes for each cluster can be identified by ranking genes using the Wilcoxon rank-sum statistic."
   ]
  },
  {
   "cell_type": "code",
   "execution_count": null,
   "id": "003ee27e",
   "metadata": {},
   "outputs": [],
   "source": [
    "C.RankMarkerGenes(method='rank-sums')\n",
    "gdf = C.marker_genes.loc[(C.marker_genes['cluster_label'] == 5)]\n",
    "gdf"
   ]
  },
  {
   "cell_type": "code",
   "execution_count": null,
   "id": "6be0dc59",
   "metadata": {},
   "outputs": [],
   "source": [
    "gene_index = gdf.loc[(gdf['cluster_label'] == 5) & (gdf['rank'] == 1)]['gene index'].values \n",
    "C.PlotMarker(gene_index)"
   ]
  },
  {
   "cell_type": "markdown",
   "id": "3a8ccefd",
   "metadata": {},
   "source": [
    "## GLM-PCA"
   ]
  },
  {
   "cell_type": "markdown",
   "id": "cf5dd06c",
   "metadata": {},
   "source": [
    "An alternative approach for comparing cells using untransformed counts is generalized linear model based PCA, or GLM-PCA. This has been described for scRNA-seq data [here](https://doi.org/10.1186/s13059-019-1861-6) and implemented [here](https://github.com/willtownes/glmpca-py)."
   ]
  },
  {
   "cell_type": "code",
   "execution_count": null,
   "id": "889acec2",
   "metadata": {},
   "outputs": [],
   "source": [
    "#!pip install git+https://github.com/willtownes/glmpca-py.git@master\n",
    "from glmpca import glmpca\n",
    "\n",
    "res = glmpca.glmpca(C.counts.T,2,fam=\"poi\") # embed in 2 dimensions and use a Poisson model"
   ]
  },
  {
   "cell_type": "code",
   "execution_count": null,
   "id": "e329fcc1",
   "metadata": {},
   "outputs": [],
   "source": [
    "plt.figure(figsize = (6,6))\n",
    "\n",
    "g = sns.scatterplot(x = res['factors'][:,0], # embeddings are stored in res['factors']\n",
    "                y = res['factors'][:,1],\n",
    "                hue = C.cluster_labels,\n",
    "                palette=\"tab10\",\n",
    "                s =10,\n",
    "                linewidth=0)\n",
    "g.legend(loc=(1.04,0))\n",
    "g.xaxis.set_ticklabels([])\n",
    "g.yaxis.set_ticklabels([])\n",
    "g.set(title=\"GLM-PCA: dot product clusters\")"
   ]
  },
  {
   "cell_type": "code",
   "execution_count": null,
   "id": "d6ab049c",
   "metadata": {},
   "outputs": [],
   "source": [
    "plt.figure(figsize = (6,6))\n",
    "\n",
    "g = sns.scatterplot(x = res['factors'][:,0], \n",
    "            y = res['factors'][:,1], \n",
    "            color = \"#CFCFCF\",\n",
    "            s = 5,\n",
    "            linewidth=0)\n",
    "sci = np.where(C.counts[:,gene_index]>0)[0]\n",
    "sns.scatterplot(ax = g,\n",
    "            x = res['factors'][sci,0], \n",
    "            y = res['factors'][sci,1], \n",
    "            hue = C.counts[sci,gene_index],\n",
    "            palette = \"viridis\",\n",
    "            s = 10,\n",
    "            linewidth=0) \n",
    "g.legend(loc=(1.04,0))\n",
    "g.xaxis.set_ticklabels([])\n",
    "g.yaxis.set_ticklabels([])\n",
    "g.set(title=\"GLM-PCA: dot product clusters\")"
   ]
  },
  {
   "cell_type": "markdown",
   "id": "180637b4",
   "metadata": {},
   "source": [
    "## RECAPITULATING STANDARD APPROACHES\n",
    "\n",
    "`countland` also includes functions for recapitulating the standard transformation steps for scRNA-seq data.\n",
    "**Note that these are not recommended**"
   ]
  },
  {
   "cell_type": "code",
   "execution_count": null,
   "id": "abc76256",
   "metadata": {},
   "outputs": [],
   "source": [
    "C._Normalize()\n",
    "C._Log()\n",
    "C._RescaleVariance()\n",
    "C._Center()"
   ]
  }
 ],
 "metadata": {
  "kernelspec": {
   "display_name": "Python 3 (ipykernel)",
   "language": "python",
   "name": "python3"
  },
  "language_info": {
   "codemirror_mode": {
    "name": "ipython",
    "version": 3
   },
   "file_extension": ".py",
   "mimetype": "text/x-python",
   "name": "python",
   "nbconvert_exporter": "python",
   "pygments_lexer": "ipython3",
   "version": "3.9.5"
  }
 },
 "nbformat": 4,
 "nbformat_minor": 5
}
